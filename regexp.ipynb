{
 "cells": [
  {
   "cell_type": "markdown",
   "metadata": {},
   "source": [
    "## 正则表达式\n",
    "### re.match\n",
    "1.语法：re.match(正则表达式，要匹配的字符串)；  \n",
    "2.返回值：re.match用来进行正则匹配检查的方法，若字符串匹配正则表达式，则match方法返回匹配对象（Match Object）,否则返回None；  \n",
    "3.匹配部分提取：匹配对象Match Object具有group方法，用来返回字符串的匹配部分。  \n",
    "**makedown语法换行，至少需要在行末尾空出两个空格才行**"
   ]
  },
  {
   "cell_type": "code",
   "execution_count": 21,
   "metadata": {},
   "outputs": [
    {
     "data": {
      "text/plain": [
       "<re.Match object; span=(0, 6), match='itcast'>"
      ]
     },
     "execution_count": 21,
     "metadata": {},
     "output_type": "execute_result"
    }
   ],
   "source": [
    "import re\n",
    "re.match(pattern=r'itcast',string='itcast.cn') # 匹配成功，span表示成功的范围，match='itcast'表示成功匹配到的字符"
   ]
  },
  {
   "cell_type": "code",
   "execution_count": 22,
   "metadata": {},
   "outputs": [],
   "source": [
    "result = re.match(pattern=r'itcast',string='pitcast.cn')  # 匹配不成功"
   ]
  },
  {
   "cell_type": "markdown",
   "metadata": {},
   "source": [
    "- match方法是从左到右进行匹配，只要匹配到，满足了就匹配成功"
   ]
  },
  {
   "cell_type": "code",
   "execution_count": 5,
   "metadata": {},
   "outputs": [
    {
     "data": {
      "text/plain": [
       "'itcast'"
      ]
     },
     "execution_count": 5,
     "metadata": {},
     "output_type": "execute_result"
    }
   ],
   "source": [
    "result=re.match(pattern=r'itcast',string='itcast.cn') # 提取匹配字符串\n",
    "result.group()"
   ]
  },
  {
   "cell_type": "markdown",
   "metadata": {},
   "source": [
    "### 单字符匹配\n",
    "|字符|功能|\n",
    "|---|---|\n",
    "|.|匹配任意一个字符，除了\\n|\n",
    "|[]|匹配[]列举的字符|\n",
    "|\\d|匹配数字，即0-9|\n",
    "|\\D|匹配非数字，即不是数字|\n",
    "|\\s|匹配空白，即空格、\\t、\\n、\\r（不换行的情况下，把光标移动到首位）|\n",
    "|\\S|匹配非空白|\n",
    "|\\w|匹配单词字符，包括a-z，A-Z,0-9,_\n",
    "|\\W|匹配非单词字符|\n"
   ]
  },
  {
   "cell_type": "code",
   "execution_count": 6,
   "metadata": {},
   "outputs": [],
   "source": [
    "re.match(r'.','\\n')"
   ]
  },
  {
   "cell_type": "code",
   "execution_count": 11,
   "metadata": {},
   "outputs": [
    {
     "data": {
      "text/plain": [
       "<re.Match object; span=(0, 3), match='a*&'>"
      ]
     },
     "execution_count": 11,
     "metadata": {},
     "output_type": "execute_result"
    }
   ],
   "source": [
    "re.match(r'...','a*&cd')"
   ]
  },
  {
   "cell_type": "code",
   "execution_count": 12,
   "metadata": {},
   "outputs": [
    {
     "data": {
      "text/plain": [
       "<re.Match object; span=(0, 1), match='a'>"
      ]
     },
     "execution_count": 12,
     "metadata": {},
     "output_type": "execute_result"
    }
   ],
   "source": [
    "re.match(r'\\D','aaaaaaa')"
   ]
  },
  {
   "cell_type": "code",
   "execution_count": 15,
   "metadata": {},
   "outputs": [],
   "source": [
    "re.match(r'\\s','a ')# 单字符匹配，只与第一个字符\\s匹配"
   ]
  },
  {
   "cell_type": "code",
   "execution_count": 16,
   "metadata": {},
   "outputs": [
    {
     "data": {
      "text/plain": [
       "<re.Match object; span=(0, 1), match=' '>"
      ]
     },
     "execution_count": 16,
     "metadata": {},
     "output_type": "execute_result"
    }
   ],
   "source": [
    "re.match(r'\\s',' a')"
   ]
  },
  {
   "cell_type": "code",
   "execution_count": 23,
   "metadata": {},
   "outputs": [],
   "source": [
    "re.match(r'\\w\\W','1a')  # \\w与1匹配，\\W与a不匹配，因此整体是不匹配的"
   ]
  },
  {
   "cell_type": "markdown",
   "metadata": {},
   "source": [
    "#### 方括号[ ]\n",
    "1.可以在方括号中写多个字符进行匹配；  \n",
    "2.方括号中可以用^表示字符取反规则；  \n",
    "3.方括号中用-表示范围。"
   ]
  },
  {
   "cell_type": "code",
   "execution_count": 24,
   "metadata": {},
   "outputs": [
    {
     "data": {
      "text/plain": [
       "<re.Match object; span=(0, 2), match='18'>"
      ]
     },
     "execution_count": 24,
     "metadata": {},
     "output_type": "execute_result"
    }
   ],
   "source": [
    "re.match(r'1[34578]','18')#[ ]中的3、4、5、7、8字符都是可以与13,14,15,17,18进行成功匹配"
   ]
  },
  {
   "cell_type": "code",
   "execution_count": 25,
   "metadata": {},
   "outputs": [],
   "source": [
    "re.match(r'1[34578]','19')"
   ]
  },
  {
   "cell_type": "code",
   "execution_count": 26,
   "metadata": {},
   "outputs": [
    {
     "data": {
      "text/plain": [
       "<re.Match object; span=(0, 2), match='19'>"
      ]
     },
     "execution_count": 26,
     "metadata": {},
     "output_type": "execute_result"
    }
   ],
   "source": [
    "re.match(r'1[^34578]','19')# 第二个字符只要不是方括号中的34578，与其他字符都可以匹配"
   ]
  },
  {
   "cell_type": "code",
   "execution_count": 27,
   "metadata": {},
   "outputs": [
    {
     "data": {
      "text/plain": [
       "<re.Match object; span=(0, 2), match='1a'>"
      ]
     },
     "execution_count": 27,
     "metadata": {},
     "output_type": "execute_result"
    }
   ],
   "source": [
    "re.match(r'1[^34578]','1a')"
   ]
  },
  {
   "cell_type": "code",
   "execution_count": 30,
   "metadata": {},
   "outputs": [],
   "source": [
    "re.match(r'1[a-z5-9]','14')"
   ]
  },
  {
   "cell_type": "code",
   "execution_count": 31,
   "metadata": {},
   "outputs": [
    {
     "data": {
      "text/plain": [
       "<re.Match object; span=(0, 2), match='1g'>"
      ]
     },
     "execution_count": 31,
     "metadata": {},
     "output_type": "execute_result"
    }
   ],
   "source": [
    "re.match(r'1[a-z5-9]','1g')"
   ]
  },
  {
   "cell_type": "markdown",
   "metadata": {},
   "source": [
    "#### 等价\n",
    "- \\d等价于[0-9]\n",
    "- \\D等价于[^0-9]\n",
    "- \\w等价于[a-zA-Z0-9_]\n",
    "- \\W等价于[^a-zA-Z0-9_]"
   ]
  },
  {
   "cell_type": "markdown",
   "metadata": {},
   "source": [
    "### 表示数量（用于匹配多个字符格式）\n",
    "|字符|功能|\n",
    "|---|---|\n",
    "|*|匹配前一个字符出现0次或无限次，即可有可无|\n",
    "|+|匹配前一个字符出现1次或无限次，即至少有一次|\n",
    "|?|匹配前一个字符出现0次或1次，即要么有1次，要么没有|\n",
    "|{m}|匹配前一个字符出现m次|\n",
    "|{m,}|匹配前一个字符至少出现m次|\n",
    "|{m,n}|匹配前一个字符出现m到n次|"
   ]
  },
  {
   "cell_type": "code",
   "execution_count": 32,
   "metadata": {},
   "outputs": [],
   "source": [
    "re.match(r'1[34578]\\d\\d\\d\\d','194444')#可以用多个单个字符\\d进行多字符匹配，但数量多的时候，麻烦！！！"
   ]
  },
  {
   "cell_type": "code",
   "execution_count": 33,
   "metadata": {},
   "outputs": [
    {
     "data": {
      "text/plain": [
       "<re.Match object; span=(0, 0), match=''>"
      ]
     },
     "execution_count": 33,
     "metadata": {},
     "output_type": "execute_result"
    }
   ],
   "source": [
    "re.match(r'\\d*','') # 匹配前一个字符\\d出现0次，即可无"
   ]
  },
  {
   "cell_type": "code",
   "execution_count": 34,
   "metadata": {},
   "outputs": [
    {
     "data": {
      "text/plain": [
       "<re.Match object; span=(0, 0), match=''>"
      ]
     },
     "execution_count": 34,
     "metadata": {},
     "output_type": "execute_result"
    }
   ],
   "source": [
    "re.match(r'\\d*','abc') # 匹配前一个字符\\d出现0次，即可无，匹配！！！使用\"abc\"等价于\"\"\"abc\"理解，\\d与空字符串\"\"匹配，即为出现0次"
   ]
  },
  {
   "cell_type": "code",
   "execution_count": 35,
   "metadata": {},
   "outputs": [],
   "source": [
    "re.match(r'\\d+','abc')"
   ]
  },
  {
   "cell_type": "code",
   "execution_count": 36,
   "metadata": {},
   "outputs": [
    {
     "data": {
      "text/plain": [
       "<re.Match object; span=(0, 1), match='1'>"
      ]
     },
     "execution_count": 36,
     "metadata": {},
     "output_type": "execute_result"
    }
   ],
   "source": [
    "re.match(r'\\d+','1bc')"
   ]
  },
  {
   "cell_type": "code",
   "execution_count": 37,
   "metadata": {},
   "outputs": [
    {
     "data": {
      "text/plain": [
       "<re.Match object; span=(0, 0), match=''>"
      ]
     },
     "execution_count": 37,
     "metadata": {},
     "output_type": "execute_result"
    }
   ],
   "source": [
    "re.match(r'\\d?','abc')"
   ]
  },
  {
   "cell_type": "code",
   "execution_count": 38,
   "metadata": {},
   "outputs": [
    {
     "data": {
      "text/plain": [
       "<re.Match object; span=(0, 1), match='1'>"
      ]
     },
     "execution_count": 38,
     "metadata": {},
     "output_type": "execute_result"
    }
   ],
   "source": [
    "re.match(r'\\d?','123bc')"
   ]
  },
  {
   "cell_type": "code",
   "execution_count": 40,
   "metadata": {},
   "outputs": [],
   "source": [
    "re.match(r'\\d?[a-z]','123kp')  # 不匹配，因为123出现\\d三次，不为0次或1次"
   ]
  },
  {
   "cell_type": "code",
   "execution_count": 41,
   "metadata": {},
   "outputs": [],
   "source": [
    "re.match(r'\\d?[a-z]','12kp')# 不匹配，因为123出现\\d两次，不为0次或1次"
   ]
  },
  {
   "cell_type": "code",
   "execution_count": 42,
   "metadata": {},
   "outputs": [
    {
     "data": {
      "text/plain": [
       "<re.Match object; span=(0, 2), match='1k'>"
      ]
     },
     "execution_count": 42,
     "metadata": {},
     "output_type": "execute_result"
    }
   ],
   "source": [
    "re.match(r'\\d?[a-z]','1kp')  # 匹配"
   ]
  },
  {
   "cell_type": "code",
   "execution_count": 43,
   "metadata": {},
   "outputs": [
    {
     "data": {
      "text/plain": [
       "<re.Match object; span=(0, 1), match='k'>"
      ]
     },
     "execution_count": 43,
     "metadata": {},
     "output_type": "execute_result"
    }
   ],
   "source": [
    "re.match(r'\\d?[a-z]','kp')  #匹配"
   ]
  },
  {
   "cell_type": "code",
   "execution_count": 44,
   "metadata": {},
   "outputs": [],
   "source": [
    "re.match(r'\\d{3}[a-z]','1234kp')  # 不匹配，等价于re.match(r'\\d\\d\\d[a-z]','1234kp')"
   ]
  },
  {
   "cell_type": "code",
   "execution_count": 45,
   "metadata": {},
   "outputs": [
    {
     "data": {
      "text/plain": [
       "<re.Match object; span=(0, 5), match='1234k'>"
      ]
     },
     "execution_count": 45,
     "metadata": {},
     "output_type": "execute_result"
    }
   ],
   "source": [
    "re.match(r'\\d{4}[a-z]','1234kp')"
   ]
  },
  {
   "cell_type": "code",
   "execution_count": 47,
   "metadata": {},
   "outputs": [],
   "source": [
    "re.match(r'\\d{5}[a-z]','1234kp')# 不匹配，等价于re.match(r'\\d\\d\\d\\d\\d[a-z]','1234kp')"
   ]
  },
  {
   "cell_type": "code",
   "execution_count": 48,
   "metadata": {},
   "outputs": [
    {
     "data": {
      "text/plain": [
       "<re.Match object; span=(0, 5), match='1234k'>"
      ]
     },
     "execution_count": 48,
     "metadata": {},
     "output_type": "execute_result"
    }
   ],
   "source": [
    "re.match(r'\\d{3,}[a-z]','1234kp')"
   ]
  },
  {
   "cell_type": "code",
   "execution_count": 49,
   "metadata": {},
   "outputs": [],
   "source": [
    "re.match(r'\\d{5}[a-z]','1234kp')  # 不匹配，\\d至少出现5次才可以"
   ]
  },
  {
   "cell_type": "markdown",
   "metadata": {},
   "source": [
    "#### 等价\n",
    "- *等价于{0,} \n",
    "- +等价于{1,}\n",
    "- ?等价于{0,1}"
   ]
  },
  {
   "cell_type": "code",
   "execution_count": 50,
   "metadata": {},
   "outputs": [
    {
     "data": {
      "text/plain": [
       "<re.Match object; span=(0, 5), match='1234k'>"
      ]
     },
     "execution_count": 50,
     "metadata": {},
     "output_type": "execute_result"
    }
   ],
   "source": [
    "re.match(r'\\d{3,5}[a-z]','1234kp')"
   ]
  },
  {
   "cell_type": "code",
   "execution_count": 51,
   "metadata": {},
   "outputs": [
    {
     "data": {
      "text/plain": [
       "<re.Match object; span=(0, 6), match='12345k'>"
      ]
     },
     "execution_count": 51,
     "metadata": {},
     "output_type": "execute_result"
    }
   ],
   "source": [
    "re.match(r'\\d{3,5}[a-z]','12345kp')"
   ]
  },
  {
   "cell_type": "code",
   "execution_count": 52,
   "metadata": {},
   "outputs": [],
   "source": [
    "re.match(r'\\d{3,5}[a-z]','123456kp')"
   ]
  },
  {
   "cell_type": "markdown",
   "metadata": {},
   "source": [
    "#### 原始字符串之\\、\\ \\、r的使用"
   ]
  },
  {
   "cell_type": "code",
   "execution_count": 53,
   "metadata": {},
   "outputs": [
    {
     "name": "stdout",
     "output_type": "stream",
     "text": [
      "\n",
      "abc\n"
     ]
    }
   ],
   "source": [
    "s = '\\nabc'#转义字符\\n打印不出来\n",
    "print(s)"
   ]
  },
  {
   "cell_type": "code",
   "execution_count": 54,
   "metadata": {},
   "outputs": [
    {
     "name": "stdout",
     "output_type": "stream",
     "text": [
      "\\nabc\n"
     ]
    }
   ],
   "source": [
    "s = '\\\\nabc'#转义字符\\n打印出来\n",
    "print(s)"
   ]
  },
  {
   "cell_type": "code",
   "execution_count": 61,
   "metadata": {},
   "outputs": [
    {
     "data": {
      "text/plain": [
       "'\\\\nabc'"
      ]
     },
     "execution_count": 61,
     "metadata": {},
     "output_type": "execute_result"
    }
   ],
   "source": [
    "st='\\\\nabc'\n",
    "st"
   ]
  },
  {
   "cell_type": "code",
   "execution_count": 62,
   "metadata": {},
   "outputs": [],
   "source": [
    "re.match('\\\\n\\w',st)#匹配不成功，将规则中的\\n当做转义字符了"
   ]
  },
  {
   "cell_type": "code",
   "execution_count": 63,
   "metadata": {},
   "outputs": [
    {
     "data": {
      "text/plain": [
       "<re.Match object; span=(0, 3), match='\\\\na'>"
      ]
     },
     "execution_count": 63,
     "metadata": {},
     "output_type": "execute_result"
    }
   ],
   "source": [
    "re.match('\\\\\\\\n\\w',st)#匹配成功，字符串中有1个反斜线，规则中需要有2个反斜线，字符串中有2个反斜线，规则中需要有4个反斜线...，才能匹配，\n",
    "# 因此需在规则前面加上r"
   ]
  },
  {
   "cell_type": "code",
   "execution_count": 64,
   "metadata": {},
   "outputs": [
    {
     "data": {
      "text/plain": [
       "<re.Match object; span=(0, 3), match='\\\\na'>"
      ]
     },
     "execution_count": 64,
     "metadata": {},
     "output_type": "execute_result"
    }
   ],
   "source": [
    "re.match(r'\\\\n\\w',st)#加r匹配成功"
   ]
  },
  {
   "cell_type": "code",
   "execution_count": 65,
   "metadata": {},
   "outputs": [
    {
     "data": {
      "text/plain": [
       "'\\\\\\\\n\\\\w'"
      ]
     },
     "execution_count": 65,
     "metadata": {},
     "output_type": "execute_result"
    }
   ],
   "source": [
    "r'\\\\n\\w'"
   ]
  },
  {
   "cell_type": "markdown",
   "metadata": {},
   "source": [
    "### 表示边界\n",
    "|字符|功能|\n",
    "|---|---|\n",
    "|^|匹配字符串开头（与[ ]里面的^是不一样的功能）|\n",
    "|$|匹配字符串结尾|\n",
    "|\\b|匹配一个单词边界|\n",
    "|\\B|匹配非单词边界|"
   ]
  },
  {
   "cell_type": "code",
   "execution_count": 66,
   "metadata": {},
   "outputs": [
    {
     "data": {
      "text/plain": [
       "<re.Match object; span=(0, 11), match='18206290391'>"
      ]
     },
     "execution_count": 66,
     "metadata": {},
     "output_type": "execute_result"
    }
   ],
   "source": [
    "re.match(r'^1[35678]\\d{9}$','18206290391')  # 手机号正确re匹配方法"
   ]
  },
  {
   "cell_type": "code",
   "execution_count": 68,
   "metadata": {},
   "outputs": [
    {
     "data": {
      "text/plain": [
       "<re.Match object; span=(0, 11), match='18206290391'>"
      ]
     },
     "execution_count": 68,
     "metadata": {},
     "output_type": "execute_result"
    }
   ],
   "source": [
    "re.match(r'^1[35678]\\d{9}','18206290391abc')  # 没有限制结尾边界，因此也是匹配成功"
   ]
  },
  {
   "cell_type": "code",
   "execution_count": 69,
   "metadata": {},
   "outputs": [],
   "source": [
    "re.match(r'^1[35678]\\d{9}$','18206290391abc')# 限制结尾边界，匹配不成功"
   ]
  },
  {
   "cell_type": "code",
   "execution_count": 70,
   "metadata": {},
   "outputs": [
    {
     "data": {
      "text/plain": [
       "<re.Match object; span=(0, 4), match='hove'>"
      ]
     },
     "execution_count": 70,
     "metadata": {},
     "output_type": "execute_result"
    }
   ],
   "source": [
    "re.match(r'^\\w+ve','hover')"
   ]
  },
  {
   "cell_type": "code",
   "execution_count": 71,
   "metadata": {},
   "outputs": [],
   "source": [
    "re.match(r'^\\w+ve\\b','hover')  # ve不是一个单词的结尾，故不匹配"
   ]
  },
  {
   "cell_type": "code",
   "execution_count": 72,
   "metadata": {},
   "outputs": [
    {
     "data": {
      "text/plain": [
       "<re.Match object; span=(0, 4), match='hove'>"
      ]
     },
     "execution_count": 72,
     "metadata": {},
     "output_type": "execute_result"
    }
   ],
   "source": [
    "re.match(r'^\\w+ve\\b','hove r')# ve后加空格，是一个单词的结尾，故匹配"
   ]
  },
  {
   "cell_type": "code",
   "execution_count": 74,
   "metadata": {},
   "outputs": [
    {
     "data": {
      "text/plain": [
       "<re.Match object; span=(0, 4), match='hove'>"
      ]
     },
     "execution_count": 74,
     "metadata": {},
     "output_type": "execute_result"
    }
   ],
   "source": [
    "re.match(r'^\\w+ve\\b','hove    r')# ve后加多个空格，是一个单词的结尾，故匹配"
   ]
  },
  {
   "cell_type": "code",
   "execution_count": 75,
   "metadata": {},
   "outputs": [],
   "source": [
    "re.match(r'^\\w+\\bve\\b','ho ve r')  # \\w+与ho匹配，ve前面的空格没有规则与其匹配，因此不成功匹配。注意：\\b不代表字符本身，\\b只代表边界，其他边界符也只是代表边界"
   ]
  },
  {
   "cell_type": "code",
   "execution_count": 76,
   "metadata": {},
   "outputs": [
    {
     "data": {
      "text/plain": [
       "<re.Match object; span=(0, 5), match='ho ve'>"
      ]
     },
     "execution_count": 76,
     "metadata": {},
     "output_type": "execute_result"
    }
   ],
   "source": [
    "re.match(r'^\\w+\\s\\bve\\b','ho ve r')"
   ]
  },
  {
   "cell_type": "code",
   "execution_count": 79,
   "metadata": {},
   "outputs": [
    {
     "data": {
      "text/plain": [
       "<re.Match object; span=(0, 5), match='ho ve'>"
      ]
     },
     "execution_count": 79,
     "metadata": {},
     "output_type": "execute_result"
    }
   ],
   "source": [
    "re.match(r'^.+ve\\B','ho ver') #ve不是一个单词结尾"
   ]
  },
  {
   "cell_type": "code",
   "execution_count": 80,
   "metadata": {},
   "outputs": [],
   "source": [
    "re.match(r'^.+ve\\B','ho ve r')#ve是一个单词结尾"
   ]
  },
  {
   "cell_type": "code",
   "execution_count": 81,
   "metadata": {},
   "outputs": [],
   "source": [
    "re.match(r'^.+ver\\B','hover')#ver是一个单词结尾!!!（此处r后面没有空格）"
   ]
  },
  {
   "cell_type": "code",
   "execution_count": 82,
   "metadata": {},
   "outputs": [],
   "source": [
    "re.match(r'^.+\\Bve\\B','ho ver')"
   ]
  },
  {
   "cell_type": "code",
   "execution_count": 83,
   "metadata": {},
   "outputs": [
    {
     "data": {
      "text/plain": [
       "<re.Match object; span=(0, 4), match='hove'>"
      ]
     },
     "execution_count": 83,
     "metadata": {},
     "output_type": "execute_result"
    }
   ],
   "source": [
    "re.match(r'^.+\\Bve\\B','hover')"
   ]
  },
  {
   "cell_type": "markdown",
   "metadata": {},
   "source": [
    "### 匹配分组\n",
    "|字符|功能|\n",
    "|---|---|\n",
    "|\\||匹配左右任意一个表达式|\n",
    "|(ab)|将括号中字符作为一个分组|\n",
    "|\\num|引用分组num匹配到的字符串|\n",
    "|?p&#60;name&#62;|分组起别名|\n",
    "|?p=name|引用别名为name分组匹配到别的字符串|"
   ]
  },
  {
   "cell_type": "markdown",
   "metadata": {},
   "source": [
    "#### 匹配0-100的数字"
   ]
  },
  {
   "cell_type": "code",
   "execution_count": 84,
   "metadata": {},
   "outputs": [
    {
     "data": {
      "text/plain": [
       "<re.Match object; span=(0, 2), match='20'>"
      ]
     },
     "execution_count": 84,
     "metadata": {},
     "output_type": "execute_result"
    }
   ],
   "source": [
    "re.match(r'[1-9]\\d?|0|100',r'200')"
   ]
  },
  {
   "cell_type": "code",
   "execution_count": 86,
   "metadata": {},
   "outputs": [],
   "source": [
    "re.match(r'^[1-9]\\d?$|0$|100$',r'200')  # 记住结束符"
   ]
  },
  {
   "cell_type": "code",
   "execution_count": 87,
   "metadata": {},
   "outputs": [
    {
     "data": {
      "text/plain": [
       "<re.Match object; span=(0, 2), match='54'>"
      ]
     },
     "execution_count": 87,
     "metadata": {},
     "output_type": "execute_result"
    }
   ],
   "source": [
    "re.match(r'^[1-9]\\d?$|0$|100$',r'54')"
   ]
  },
  {
   "cell_type": "code",
   "execution_count": 96,
   "metadata": {},
   "outputs": [],
   "source": [
    "re.match(r'^[1-9]\\d?$|0$|100$',r'09')"
   ]
  },
  {
   "cell_type": "markdown",
   "metadata": {},
   "source": [
    "#### 字符串提取"
   ]
  },
  {
   "cell_type": "code",
   "execution_count": 89,
   "metadata": {},
   "outputs": [
    {
     "data": {
      "text/plain": [
       "<re.Match object; span=(0, 13), match='<h1>匹配分组</h1>'>"
      ]
     },
     "execution_count": 89,
     "metadata": {},
     "output_type": "execute_result"
    }
   ],
   "source": [
    "re.match(r'<h1>(.*)</h1>','<h1>匹配分组</h1>')"
   ]
  },
  {
   "cell_type": "code",
   "execution_count": 90,
   "metadata": {},
   "outputs": [
    {
     "name": "stdout",
     "output_type": "stream",
     "text": [
      "<h1>匹配分组</h1>\n",
      "<h1>匹配分组</h1>\n",
      "匹配分组\n"
     ]
    }
   ],
   "source": [
    "result=re.match(r'<h1>(.*)</h1>','<h1>匹配分组</h1>')\n",
    "print(result.group())# 全部匹配内容\n",
    "print(result.group(0))# 全部匹配内容\n",
    "print(result.group(1))# 提取第一个括号里面的内容"
   ]
  },
  {
   "cell_type": "code",
   "execution_count": 91,
   "metadata": {},
   "outputs": [
    {
     "name": "stdout",
     "output_type": "stream",
     "text": [
      "<h1>匹配分组</h1>\n",
      "<h1>匹配分组</h1>\n",
      "<h1>\n",
      "匹配分组\n",
      "</h1>\n"
     ]
    }
   ],
   "source": [
    "result=re.match(r'(<h1>)(.*)(</h1>)','<h1>匹配分组</h1>')\n",
    "print(result.group())# 全部匹配内容\n",
    "print(result.group(0))# 全部匹配内容\n",
    "print(result.group(1))# 提取第一个括号里面的内容\n",
    "print(result.group(2))# 提取第二个括号里面的内容\n",
    "print(result.group(3))# 提取第三个括号里面的内容"
   ]
  },
  {
   "cell_type": "code",
   "execution_count": 93,
   "metadata": {},
   "outputs": [
    {
     "name": "stdout",
     "output_type": "stream",
     "text": [
      "('<h1>', '匹配分组', '</h1>')\n",
      "('<h1>', '匹配分组', '</h1>')\n",
      "('<h1>', '匹配分组', '</h1>')\n",
      "('<h1>', '匹配分组', '</h1>')\n",
      "('<h1>', '匹配分组', '</h1>')\n",
      "<h1>\n",
      "匹配分组\n",
      "</h1>\n"
     ]
    }
   ],
   "source": [
    "result=re.match(r'(<h1>)(.*)(</h1>)','<h1>匹配分组</h1>')\n",
    "print(result.groups())# 返回tuple类型，全部匹配内容\n",
    "print(result.groups(0))# 返回tuple类型，全部匹配内容\n",
    "print(result.groups(1))# 返回tuple类型，全部匹配内容\n",
    "print(result.groups(2))# 返回tuple类型，全部匹配内容\n",
    "print(result.groups(3))# 返回tuple类型，全部匹配内容\n",
    "\n",
    "print(result.groups()[0])# 提取第1个括号里面的内容\n",
    "print(result.groups()[1])# 提取第2个括号里面的内容\n",
    "print(result.groups()[2])# 提取第3个括号里面的内容"
   ]
  },
  {
   "cell_type": "markdown",
   "metadata": {},
   "source": [
    "#### \\num使用"
   ]
  },
  {
   "cell_type": "code",
   "execution_count": 98,
   "metadata": {},
   "outputs": [
    {
     "data": {
      "text/plain": [
       "<re.Match object; span=(0, 28), match='<html><h1>itcast</h1></html>'>"
      ]
     },
     "execution_count": 98,
     "metadata": {},
     "output_type": "execute_result"
    }
   ],
   "source": [
    "s = '<html><h1>itcast</h1></html>'\n",
    "re.match(r'<(.+)><(.+)>.+</\\2></\\1>',s) \n",
    "# 括号一旦括起来，分组信息就描绘出来了，在解析的时候，()里面的内容作为中间变量给记录下来，当做buffer使用\n",
    "# \\2中的2表示从左到右的第2个括号，\\1中的1表示从左到右的第1个括号，对应内容是相同的"
   ]
  },
  {
   "cell_type": "code",
   "execution_count": 99,
   "metadata": {},
   "outputs": [],
   "source": [
    "s = '<html><h1>itcast</h1></htm>'  # \\1处对应内容不相同，不匹配\n",
    "re.match(r'<(.+)><(.+)>.+</\\2></\\1>',s)"
   ]
  },
  {
   "cell_type": "markdown",
   "metadata": {},
   "source": [
    "#### 匹配一个邮箱"
   ]
  },
  {
   "cell_type": "code",
   "execution_count": 101,
   "metadata": {},
   "outputs": [
    {
     "data": {
      "text/plain": [
       "<re.Match object; span=(0, 9), match='gs@qq.com'>"
      ]
     },
     "execution_count": 101,
     "metadata": {},
     "output_type": "execute_result"
    }
   ],
   "source": [
    "re.match(r'^\\w+@(163|126|gmail|qq)\\.(com|net|cn)$','gs@qq.com')  # 这里面的()表示分组，由于该部分是整个邮箱字符串内容的一部分，不与之前'^[1-9]\\d?$|0$|100$'中的0、100（这是\n",
    "# 整个字符串，不是部分了）一样，因此使用'|'或的时候需要加括号\n",
    "# 这边的'.'需要用到转义字符了，去表示邮箱中实际的.，而不是re规则中的."
   ]
  },
  {
   "cell_type": "code",
   "execution_count": 102,
   "metadata": {},
   "outputs": [
    {
     "name": "stdout",
     "output_type": "stream",
     "text": [
      "gs\n"
     ]
    }
   ],
   "source": [
    "result=re.match(r'^(\\w+)@(163|126|gmail|qq)\\.(com|net|cn)$','gs@qq.com')\n",
    "print(result.group(1))  # 获取@前面内容"
   ]
  },
  {
   "cell_type": "markdown",
   "metadata": {},
   "source": [
    "#### ?p&#60;name&#62;的使用"
   ]
  },
  {
   "cell_type": "code",
   "execution_count": 104,
   "metadata": {},
   "outputs": [
    {
     "data": {
      "text/plain": [
       "<re.Match object; span=(0, 28), match='<html><h1>itcast</h1></html>'>"
      ]
     },
     "execution_count": 104,
     "metadata": {},
     "output_type": "execute_result"
    }
   ],
   "source": [
    "s = '<html><h1>itcast</h1></html>'\n",
    "re.match(r'<(?P<key1>.+)><(?P<key2>.+)>.+</(?P=key2)></(?P=key1)>',s) \n",
    "# (?P<key1>.+)将()里的内容存储到临时变量key1\n",
    "# (?P=key1)获取临时变量key1内容进行使用"
   ]
  },
  {
   "cell_type": "code",
   "execution_count": 105,
   "metadata": {},
   "outputs": [],
   "source": [
    "s = '<html><h1>itcast</h></html>'#不匹配\n",
    "re.match(r'<(?P<key1>.+)><(?P<key2>.+)>.+</(?P=key2)></(?P=key1)>',s)"
   ]
  },
  {
   "cell_type": "markdown",
   "metadata": {},
   "source": [
    "# re高级用法\n",
    "### re.search('正则表达式','要检查的字符串')\n",
    "- 与match语法类似，但仅查找到一个符合正则规则的就返回结果"
   ]
  },
  {
   "cell_type": "code",
   "execution_count": 106,
   "metadata": {},
   "outputs": [
    {
     "data": {
      "text/plain": [
       "<re.Match object; span=(10, 16), match='itcast'>"
      ]
     },
     "execution_count": 106,
     "metadata": {},
     "output_type": "execute_result"
    }
   ],
   "source": [
    "s = '<html><h1>itcast</h></html>'\n",
    "re.search(r'itcast',s)"
   ]
  },
  {
   "cell_type": "code",
   "execution_count": 107,
   "metadata": {},
   "outputs": [],
   "source": [
    "s = '<html><h1>itcast</h></html>'\n",
    "re.search(r'^itcast$',s)"
   ]
  },
  {
   "cell_type": "code",
   "execution_count": 108,
   "metadata": {},
   "outputs": [],
   "source": [
    "s = '<html><h1>itcast</h></html>'\n",
    "re.search(r'^itcast',s)"
   ]
  },
  {
   "cell_type": "code",
   "execution_count": 110,
   "metadata": {},
   "outputs": [
    {
     "data": {
      "text/plain": [
       "<re.Match object; span=(0, 6), match='itcast'>"
      ]
     },
     "execution_count": 110,
     "metadata": {},
     "output_type": "execute_result"
    }
   ],
   "source": [
    "s = 'itcast</h1></html>'\n",
    "re.search(r'^itcast',s)"
   ]
  },
  {
   "cell_type": "code",
   "execution_count": 111,
   "metadata": {},
   "outputs": [
    {
     "data": {
      "text/plain": [
       "<re.Match object; span=(0, 11), match='itcast</h1>'>"
      ]
     },
     "execution_count": 111,
     "metadata": {},
     "output_type": "execute_result"
    }
   ],
   "source": [
    "s = 'itcast</h1></html>itbtch</h1>'  # 只查找一个，查找到一个符合正则规则的就返回结果了\n",
    "re.search(r'\\w+</h1>',s)"
   ]
  },
  {
   "cell_type": "markdown",
   "metadata": {},
   "source": [
    "### re.findall('正则表达式','要检查的字符串')\n",
    "- 查找到所有符合正则规则的，才返回结果"
   ]
  },
  {
   "cell_type": "code",
   "execution_count": 112,
   "metadata": {},
   "outputs": [
    {
     "data": {
      "text/plain": [
       "['itcast</h1>', 'itbtch</h1>']"
      ]
     },
     "execution_count": 112,
     "metadata": {},
     "output_type": "execute_result"
    }
   ],
   "source": [
    "s = 'itcast</h1></html>itbtch</h1>'\n",
    "re.findall(r'\\w+</h1>',s)"
   ]
  },
  {
   "cell_type": "markdown",
   "metadata": {},
   "source": [
    "### sub将匹配到的数据进行替换\n",
    "- 语法：sub('正则表达式','被替换的内容','要替换的字符串（要检查的字符串）')"
   ]
  },
  {
   "cell_type": "code",
   "execution_count": 113,
   "metadata": {},
   "outputs": [
    {
     "data": {
      "text/plain": [
       "'cpp c python python cpp vb python'"
      ]
     },
     "execution_count": 113,
     "metadata": {},
     "output_type": "execute_result"
    }
   ],
   "source": [
    "re.sub(r'php','python','cpp c php python cpp vb php')"
   ]
  },
  {
   "cell_type": "code",
   "execution_count": 114,
   "metadata": {},
   "outputs": [
    {
     "data": {
      "text/plain": [
       "'cpp=998,python=998'"
      ]
     },
     "execution_count": 114,
     "metadata": {},
     "output_type": "execute_result"
    }
   ],
   "source": [
    "re.sub(r'\\d+','998','cpp=0,python=997')"
   ]
  },
  {
   "cell_type": "code",
   "execution_count": 115,
   "metadata": {},
   "outputs": [
    {
     "name": "stdout",
     "output_type": "stream",
     "text": [
      "0\n",
      "997\n"
     ]
    },
    {
     "data": {
      "text/plain": [
       "'cpp=50,python=50'"
      ]
     },
     "execution_count": 115,
     "metadata": {},
     "output_type": "execute_result"
    }
   ],
   "source": [
    "def replace(result):\n",
    "    print(result.group())\n",
    "    return \"50\"\n",
    "re.sub(r'\\d+',replace,'cpp=0,python=997')# 函数式的使用方法，匹配到0运行一下replace函数，匹配到997运行一下replace函数"
   ]
  },
  {
   "cell_type": "code",
   "execution_count": 116,
   "metadata": {},
   "outputs": [
    {
     "data": {
      "text/plain": [
       "'cpp=100,python=1097'"
      ]
     },
     "execution_count": 116,
     "metadata": {},
     "output_type": "execute_result"
    }
   ],
   "source": [
    "def replace(result):\n",
    "    recv = int(result.group()) +100\n",
    "    return str(recv)\n",
    "re.sub(r'\\d+',replace,'cpp=0,python=997')# 函数式的使用方法，匹配到0运行一下replace函数，匹配到997运行一下replace函数"
   ]
  },
  {
   "cell_type": "markdown",
   "metadata": {},
   "source": [
    "#### re.split()分割"
   ]
  },
  {
   "cell_type": "code",
   "execution_count": 117,
   "metadata": {},
   "outputs": [
    {
     "data": {
      "text/plain": [
       "['itcast', 'cpp', 'python', 'php', 'cpp']"
      ]
     },
     "execution_count": 117,
     "metadata": {},
     "output_type": "execute_result"
    }
   ],
   "source": [
    "s = 'itcast:cpp,python,php-cpp'\n",
    "re.split(r':|,|-',s)  # 此处的正则表达式表示用分割符表示，可以是多个分隔符"
   ]
  },
  {
   "cell_type": "code",
   "execution_count": 122,
   "metadata": {},
   "outputs": [
    {
     "data": {
      "text/plain": [
       "['itcast:cpp,py', 'on,php-cpp']"
      ]
     },
     "execution_count": 122,
     "metadata": {},
     "output_type": "execute_result"
    }
   ],
   "source": [
    "s = 'itcast:cpp,python,php-cpp'  # 分隔符用字符串‘th’分割\n",
    "re.split(r'th',s)  # 此处的正则表达式表示可以yog"
   ]
  },
  {
   "cell_type": "markdown",
   "metadata": {},
   "source": [
    "### python贪婪和非贪婪模式(在数量级后面用?关闭贪婪模式)"
   ]
  },
  {
   "cell_type": "code",
   "execution_count": 126,
   "metadata": {},
   "outputs": [
    {
     "name": "stdout",
     "output_type": "stream",
     "text": [
      "('this is a number 23', '4-235-22-423')\n"
     ]
    }
   ],
   "source": [
    "s='this is a number 234-235-22-423'  # 贪婪模式，在此模式下，从左到右尽可能多的匹配，因此.+贪婪的匹配到了this is a number 23，前面尽可能多的匹配\n",
    "# 紧跟后面的\\d+只要给你个4就可以匹配了。但是我想要的目标是234-235-22-423\n",
    "r = re.match(r'(.+)(\\d+-\\d+-\\d+-\\d+)',s)\n",
    "print(r.groups())"
   ]
  },
  {
   "cell_type": "code",
   "execution_count": 127,
   "metadata": {},
   "outputs": [
    {
     "name": "stdout",
     "output_type": "stream",
     "text": [
      "('this is a number ', '234-235-22-423')\n"
     ]
    }
   ],
   "source": [
    "s='this is a number 234-235-22-423'  #在数量级+后面加了个?，.+变成了非贪婪模式，尽可能少的匹配，因此匹配到了'this is a number '，这是最少的匹配，\n",
    "#后面的部分给了紧跟后面的\\d+，由于后面的数量级+没有关闭贪婪模式，所以\n",
    "r = re.match(r'(.+?)(\\d+-\\d+-\\d+-\\d+)',s)\n",
    "print(r.groups())"
   ]
  },
  {
   "cell_type": "code",
   "execution_count": 128,
   "metadata": {},
   "outputs": [
    {
     "name": "stdout",
     "output_type": "stream",
     "text": [
      "2345\n"
     ]
    }
   ],
   "source": [
    "r=re.match(r'aa(\\d+)','aa2345ddd')#贪婪模式\n",
    "print(r.group(1))"
   ]
  },
  {
   "cell_type": "code",
   "execution_count": 129,
   "metadata": {},
   "outputs": [
    {
     "name": "stdout",
     "output_type": "stream",
     "text": [
      "2\n"
     ]
    }
   ],
   "source": [
    "r=re.match(r'aa(\\d+?)','aa2345ddd')#非贪婪模式\n",
    "print(r.group(1))"
   ]
  },
  {
   "cell_type": "code",
   "execution_count": 131,
   "metadata": {},
   "outputs": [
    {
     "name": "stdout",
     "output_type": "stream",
     "text": [
      "2345\n"
     ]
    }
   ],
   "source": [
    "r=re.match(r'aa(\\d+)ddd','aa2345ddd')#贪婪模式\n",
    "print(r.group(1))"
   ]
  },
  {
   "cell_type": "code",
   "execution_count": 132,
   "metadata": {},
   "outputs": [
    {
     "name": "stdout",
     "output_type": "stream",
     "text": [
      "2345\n"
     ]
    }
   ],
   "source": [
    "r=re.match(r'aa(\\d+?)ddd','aa2345ddd')#非贪婪模式，虽然关闭了贪婪模式，但是后面的ddd被匹配了，此时要考虑全体情况\n",
    "print(r.group(1))"
   ]
  },
  {
   "cell_type": "markdown",
   "metadata": {},
   "source": [
    "---\n",
    "author:格桑  \n",
    "date：20191012"
   ]
  }
 ],
 "metadata": {
  "kernelspec": {
   "display_name": "Python 3",
   "language": "python",
   "name": "python3"
  },
  "language_info": {
   "codemirror_mode": {
    "name": "ipython",
    "version": 3
   },
   "file_extension": ".py",
   "mimetype": "text/x-python",
   "name": "python",
   "nbconvert_exporter": "python",
   "pygments_lexer": "ipython3",
   "version": "3.7.3"
  }
 },
 "nbformat": 4,
 "nbformat_minor": 1
}
